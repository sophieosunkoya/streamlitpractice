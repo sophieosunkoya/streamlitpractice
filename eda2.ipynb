{
 "cells": [
  {
   "cell_type": "markdown",
   "id": "eb883d33",
   "metadata": {},
   "source": [
    "#  Exploratory Data Analysis (EDA)\n",
    "\n",
    "This notebook explores trends in student behavior and their relationship with academic performance."
   ]
  },
  {
   "cell_type": "markdown",
   "id": "692cbf2a",
   "metadata": {},
   "source": [
    "##  Load and Preview Data"
   ]
  },
  {
   "cell_type": "code",
   "execution_count": null,
   "id": "326c68a1",
   "metadata": {},
   "outputs": [],
   "source": [
    "import pandas as pd\n",
    "import seaborn as sns\n",
    "import matplotlib.pyplot as plt\n",
    "import numpy as np\n",
    "\n",
    "df = pd.read_csv('../../student_habits_performance.csv')\n",
    "df.head()"
   ]
  },
  {
   "cell_type": "markdown",
   "id": "ac5581ad",
   "metadata": {},
   "source": [
    "##  Summary Statistics and Data Types"
   ]
  },
  {
   "cell_type": "code",
   "execution_count": null,
   "id": "de2a1341",
   "metadata": {},
   "outputs": [],
   "source": [
    "df.info()\n",
    "df.describe(include='all')"
   ]
  },
  {
   "cell_type": "markdown",
   "id": "48aa9609",
   "metadata": {},
   "source": [
    "## 🧹 Missing Values"
   ]
  },
  {
   "cell_type": "code",
   "execution_count": null,
   "id": "09ffb3cf",
   "metadata": {},
   "outputs": [],
   "source": [
    "df.isnull().sum()"
   ]
  },
  {
   "cell_type": "markdown",
   "id": "5fe5e898",
   "metadata": {},
   "source": [
    "##  Distribution of Exam Scores"
   ]
  },
  {
   "cell_type": "code",
   "execution_count": null,
   "id": "494dc81c",
   "metadata": {},
   "outputs": [],
   "source": [
    "sns.histplot(df['exam_score'], bins=30, kde=True)\n",
    "plt.title('Distribution of Exam Scores')\n",
    "plt.xlabel('Score')\n",
    "plt.ylabel('Frequency')\n",
    "plt.show()"
   ]
  },
  {
   "cell_type": "markdown",
   "id": "d4bdd00c",
   "metadata": {},
   "source": [
    "## 🔗 Relationship Between Key Features"
   ]
  },
  {
   "cell_type": "code",
   "execution_count": null,
   "id": "f11d7026",
   "metadata": {},
   "outputs": [],
   "source": [
    "sns.pairplot(df[['study_hours_per_day', 'social_media_hours', 'sleep_hours', 'mental_health_rating', 'exam_score']])\n",
    "plt.show()"
   ]
  },
  {
   "cell_type": "markdown",
   "id": "0da31a01",
   "metadata": {},
   "source": [
    "##  Correlation Matrix"
   ]
  },
  {
   "cell_type": "code",
   "execution_count": null,
   "id": "99cf3fc7",
   "metadata": {},
   "outputs": [],
   "source": [
    "corr = df.corr(numeric_only=True)\n",
    "sns.heatmap(corr, annot=True, cmap='coolwarm')\n",
    "plt.title('Correlation Heatmap')\n",
    "plt.show()"
   ]
  },
  {
   "cell_type": "markdown",
   "id": "72b5b336",
   "metadata": {},
   "source": [
    "##  Boxplots of Exam Score by Category"
   ]
  },
  {
   "cell_type": "code",
   "execution_count": null,
   "id": "82cabe2b",
   "metadata": {},
   "outputs": [],
   "source": [
    "categoricals = ['gender', 'part_time_job', 'diet_quality', 'internet_quality', 'extracurricular_participation']\n",
    "for col in categoricals:\n",
    "    sns.boxplot(data=df, x=col, y='exam_score')\n",
    "    plt.title(f'Exam Score by {col}')\n",
    "    plt.xticks(rotation=45)\n",
    "    plt.show()"
   ]
  }
 ],
 "metadata": {
  "language_info": {
   "name": "python"
  }
 },
 "nbformat": 4,
 "nbformat_minor": 5
}
