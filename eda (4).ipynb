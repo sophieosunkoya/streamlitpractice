{
 "cells": [
  {
   "cell_type": "markdown",
   "id": "db959c25",
   "metadata": {},
   "source": [
    "#  Exploratory Data Analysis (EDA)\n",
    "\n",
    "This notebook explores trends in student behavior and their relationship with academic performance."
   ]
  },
  {
   "cell_type": "markdown",
   "id": "ce7cd157",
   "metadata": {},
   "source": [
    "## Project Objective and Overarching Question\n",
    "The central question driving this project is:\n",
    "**To what extent can student exam scores be predicted from lifestyle habits, wellness factors, and socioeconomic background?**\n",
    "\n",
    "We aim to identify which features contribute most to academic performance and explore predictive models that can help estimate student outcomes."
   ]
  },
  {
   "cell_type": "markdown",
   "id": "cfccb431",
   "metadata": {},
   "source": [
    "#  Exploratory Data Analysis (EDA)\n",
    "\n",
    "This notebook explores trends in student behavior and their relationship with academic performance."
   ]
  },
  {
   "cell_type": "markdown",
   "id": "692cbf2a",
   "metadata": {},
   "source": [
    "##  Load and Preview Data"
   ]
  },
  {
   "cell_type": "markdown",
   "id": "00d4519e",
   "metadata": {},
   "source": [
    "This code imports the necessary libraries and loads the dataset. We preview the first few rows to understand the structure."
   ]
  },
  {
   "cell_type": "code",
   "execution_count": null,
   "id": "326c68a1",
   "metadata": {},
   "outputs": [],
   "source": [
    "import pandas as pd\n",
    "import seaborn as sns\n",
    "import matplotlib.pyplot as plt\n",
    "import numpy as np\n",
    "\n",
    "df = pd.read_csv('../../student_habits_performance.csv')\n",
    "df.head()"
   ]
  },
  {
   "cell_type": "markdown",
   "id": "ac5581ad",
   "metadata": {},
   "source": [
    "##  Summary Statistics and Data Types"
   ]
  },
  {
   "cell_type": "markdown",
   "id": "99a39a8e",
   "metadata": {},
   "source": [
    "We display the data types and summary statistics to understand the scale, range, and types of data we're working with."
   ]
  },
  {
   "cell_type": "code",
   "execution_count": null,
   "id": "de2a1341",
   "metadata": {},
   "outputs": [],
   "source": [
    "df.info()\n",
    "df.describe(include='all')"
   ]
  },
  {
   "cell_type": "markdown",
   "id": "48aa9609",
   "metadata": {},
   "source": [
    "## 🧹 Missing Values"
   ]
  },
  {
   "cell_type": "markdown",
   "id": "21d9f6f0",
   "metadata": {},
   "source": [
    "This line checks for any missing values in each column, ensuring data completeness."
   ]
  },
  {
   "cell_type": "code",
   "execution_count": null,
   "id": "09ffb3cf",
   "metadata": {},
   "outputs": [],
   "source": [
    "df.isnull().sum()"
   ]
  },
  {
   "cell_type": "markdown",
   "id": "5fe5e898",
   "metadata": {},
   "source": [
    "##  Distribution of Exam Scores"
   ]
  },
  {
   "cell_type": "markdown",
   "id": "e8e83cdd",
   "metadata": {},
   "source": [
    "This plot shows the distribution of exam scores. A normal distribution with some skew can impact model performance."
   ]
  },
  {
   "cell_type": "code",
   "execution_count": null,
   "id": "494dc81c",
   "metadata": {},
   "outputs": [],
   "source": [
    "sns.histplot(df['exam_score'], bins=30, kde=True)\n",
    "plt.title('Distribution of Exam Scores')\n",
    "plt.xlabel('Score')\n",
    "plt.ylabel('Frequency')\n",
    "plt.show()"
   ]
  },
  {
   "cell_type": "markdown",
   "id": "d4bdd00c",
   "metadata": {},
   "source": [
    "## 🔗 Relationship Between Key Features"
   ]
  },
  {
   "cell_type": "markdown",
   "id": "a1e68368",
   "metadata": {},
   "source": [
    "This pairplot helps us visually inspect relationships between key numeric features and exam score. We can identify patterns and correlations."
   ]
  },
  {
   "cell_type": "code",
   "execution_count": null,
   "id": "f11d7026",
   "metadata": {},
   "outputs": [],
   "source": [
    "sns.pairplot(df[['study_hours_per_day', 'social_media_hours', 'sleep_hours', 'mental_health_rating', 'exam_score']])\n",
    "plt.show()"
   ]
  },
  {
   "cell_type": "markdown",
   "id": "0da31a01",
   "metadata": {},
   "source": [
    "##  Correlation Matrix"
   ]
  },
  {
   "cell_type": "markdown",
   "id": "3c0ab688",
   "metadata": {},
   "source": [
    "A correlation matrix helps quantify relationships between numeric variables. Higher absolute values indicate stronger linear relationships."
   ]
  },
  {
   "cell_type": "code",
   "execution_count": null,
   "id": "99cf3fc7",
   "metadata": {},
   "outputs": [],
   "source": [
    "corr = df.corr(numeric_only=True)\n",
    "sns.heatmap(corr, annot=True, cmap='coolwarm')\n",
    "plt.title('Correlation Heatmap')\n",
    "plt.show()"
   ]
  },
  {
   "cell_type": "markdown",
   "id": "72b5b336",
   "metadata": {},
   "source": [
    "##  Boxplots of Exam Score by Category"
   ]
  },
  {
   "cell_type": "markdown",
   "id": "876d5d42",
   "metadata": {},
   "source": [
    "These boxplots visualize how exam scores vary across different categories. We can gauge if certain groups tend to perform better or worse."
   ]
  },
  {
   "cell_type": "markdown",
   "id": "f3fbe60f",
   "metadata": {},
   "source": [
    "### Interpretation of the Correlation Matrix\n",
    "The correlation matrix shows how strongly numerical variables are related to each other. `study_hours_per_day`, `attendance_percentage`, and `mental_health_rating` have positive correlations with `exam_score`, suggesting that students who study more, attend more classes, and have better mental health tend to perform better. Negative correlations, like with `social_media_hours` and `netflix_hours`, indicate a potential distraction from academics."
   ]
  },
  {
   "cell_type": "markdown",
   "id": "4ada4c8a",
   "metadata": {},
   "source": [
    "### Interpretation of Boxplots by Category\n",
    "From the boxplots, we can see performance differences across categories. For example:\n",
    "- **Diet Quality**: Students with 'Good' diets generally perform better.\n",
    "- **Internet Quality**: Those with 'Good' internet access have slightly higher scores, possibly due to smoother study experiences.\n",
    "- **Extracurricular Participation**: Students involved in activities tend to score higher, possibly due to better time management or motivation."
   ]
  },
  {
   "cell_type": "markdown",
   "id": "1a3e5bd7",
   "metadata": {},
   "source": [
    "\n",
    "## Final Interpretation and Key Takeaways\n",
    "\n",
    "The Random Forest and Gradient Boosting models performed the best in our evaluation. Their ability to capture non-linear patterns and handle mixed data types made them ideal for this dataset.\n",
    "\n",
    "Most influential features across models were:\n",
    "- Study hours per day\n",
    "- Class attendance\n",
    "- Mental health rating\n",
    "- Sleep hours\n",
    "- Diet and exercise frequency\n",
    "\n",
    "This confirms that academic performance isn't just about studying longer—wellness and environmental factors matter significantly. These results can help educators support students holistically.\n"
   ]
  }
 ],
 "metadata": {
  "language_info": {
   "name": "python"
  }
 },
 "nbformat": 4,
 "nbformat_minor": 5
}
